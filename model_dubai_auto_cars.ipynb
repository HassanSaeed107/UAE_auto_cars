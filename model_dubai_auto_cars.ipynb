{
  "nbformat": 4,
  "nbformat_minor": 0,
  "metadata": {
    "colab": {
      "provenance": [],
      "include_colab_link": true
    },
    "kernelspec": {
      "name": "python3",
      "display_name": "Python 3"
    },
    "language_info": {
      "name": "python"
    }
  },
  "cells": [
    {
      "cell_type": "markdown",
      "metadata": {
        "id": "view-in-github",
        "colab_type": "text"
      },
      "source": [
        "<a href=\"https://colab.research.google.com/github/HassanSaeed107/UAE_auto_cars/blob/main/model_dubai_auto_cars.ipynb\" target=\"_parent\"><img src=\"https://colab.research.google.com/assets/colab-badge.svg\" alt=\"Open In Colab\"/></a>"
      ]
    },
    {
      "cell_type": "code",
      "execution_count": null,
      "metadata": {
        "id": "E8Hih0imKepm"
      },
      "outputs": [],
      "source": [
        "import pandas as pd\n",
        "import numpy as np\n",
        "import seaborn as sns\n",
        "import matplotlib.pyplot as plt\n",
        "\n",
        "from sklearn.model_selection import train_test_split\n",
        "from sklearn.linear_model import LinearRegression\n",
        "from sklearn.metrics import mean_squared_error\n",
        "from sklearn.ensemble import RandomForestRegressor"
      ]
    },
    {
      "cell_type": "code",
      "source": [
        "df = pd.read_csv('/content/dubai_auto_cars_cleaned.csv')\n",
        "df.head()"
      ],
      "metadata": {
        "colab": {
          "base_uri": "https://localhost:8080/",
          "height": 585
        },
        "id": "DWbOHweMLI8T",
        "outputId": "7d939a59-11e0-4145-ed57-9e6a0ac74c20"
      },
      "execution_count": null,
      "outputs": [
        {
          "output_type": "execute_result",
          "data": {
            "text/plain": [
              "    price       brand      model           trim  kilometers  year  \\\n",
              "0  129900       Dodge        Ram  1500 SLT Crew       47566  2021   \n",
              "1  319900  Alfa Romeo    Stelvio   Quadrifoglio        8914  2020   \n",
              "2  149900        Audi         Q5         S-line       72205  2019   \n",
              "3   79900  Alfa Romeo  GIULIETTA         Veloce       49193  2021   \n",
              "4  154900         GAC        GS8             GL          30  2024   \n",
              "\n",
              "   vehicle_age_years regional_specs  doors      body_type  ... interior_color  \\\n",
              "0                  3      GCC Specs      4  Pick Up Truck  ...        Unknown   \n",
              "1                  4      GCC Specs      5            SUV  ...          Black   \n",
              "2                  5      GCC Specs      5            SUV  ...          Brown   \n",
              "3                  3      GCC Specs      4      Hatchback  ...          Black   \n",
              "4                  0      GCC Specs      5            SUV  ...    Other Color   \n",
              "\n",
              "   warranty                         address  country   city  area_name  \\\n",
              "0       Yes  Al Khabaisi, Deira, Dubai, UAE      UAE  Dubai      Deira   \n",
              "1       Yes     Abu Hail, Deira, Dubai, UAE      UAE  Dubai      Deira   \n",
              "2       Yes  Al Khabaisi, Deira, Dubai, UAE      UAE  Dubai      Deira   \n",
              "3       Yes  Al Khabaisi, Deira, Dubai, UAE      UAE  Dubai      Deira   \n",
              "4       Yes  Al Khabaisi, Deira, Dubai, UAE      UAE  Dubai      Deira   \n",
              "\n",
              "  location_name   latitude  longitude                     seller_type  \n",
              "0   Al Khabaisi  25.266173  55.337772  Dealership/Certified Pre-Owned  \n",
              "1      Abu Hail  25.275416  55.346450  Dealership/Certified Pre-Owned  \n",
              "2   Al Khabaisi  25.266173  55.337772  Dealership/Certified Pre-Owned  \n",
              "3   Al Khabaisi  25.266173  55.337772  Dealership/Certified Pre-Owned  \n",
              "4   Al Khabaisi  25.266173  55.337772  Dealership/Certified Pre-Owned  \n",
              "\n",
              "[5 rows x 27 columns]"
            ],
            "text/html": [
              "\n",
              "  <div id=\"df-d3ca431a-d4ac-442a-89a2-4872c9352167\" class=\"colab-df-container\">\n",
              "    <div>\n",
              "<style scoped>\n",
              "    .dataframe tbody tr th:only-of-type {\n",
              "        vertical-align: middle;\n",
              "    }\n",
              "\n",
              "    .dataframe tbody tr th {\n",
              "        vertical-align: top;\n",
              "    }\n",
              "\n",
              "    .dataframe thead th {\n",
              "        text-align: right;\n",
              "    }\n",
              "</style>\n",
              "<table border=\"1\" class=\"dataframe\">\n",
              "  <thead>\n",
              "    <tr style=\"text-align: right;\">\n",
              "      <th></th>\n",
              "      <th>price</th>\n",
              "      <th>brand</th>\n",
              "      <th>model</th>\n",
              "      <th>trim</th>\n",
              "      <th>kilometers</th>\n",
              "      <th>year</th>\n",
              "      <th>vehicle_age_years</th>\n",
              "      <th>regional_specs</th>\n",
              "      <th>doors</th>\n",
              "      <th>body_type</th>\n",
              "      <th>...</th>\n",
              "      <th>interior_color</th>\n",
              "      <th>warranty</th>\n",
              "      <th>address</th>\n",
              "      <th>country</th>\n",
              "      <th>city</th>\n",
              "      <th>area_name</th>\n",
              "      <th>location_name</th>\n",
              "      <th>latitude</th>\n",
              "      <th>longitude</th>\n",
              "      <th>seller_type</th>\n",
              "    </tr>\n",
              "  </thead>\n",
              "  <tbody>\n",
              "    <tr>\n",
              "      <th>0</th>\n",
              "      <td>129900</td>\n",
              "      <td>Dodge</td>\n",
              "      <td>Ram</td>\n",
              "      <td>1500 SLT Crew</td>\n",
              "      <td>47566</td>\n",
              "      <td>2021</td>\n",
              "      <td>3</td>\n",
              "      <td>GCC Specs</td>\n",
              "      <td>4</td>\n",
              "      <td>Pick Up Truck</td>\n",
              "      <td>...</td>\n",
              "      <td>Unknown</td>\n",
              "      <td>Yes</td>\n",
              "      <td>Al Khabaisi, Deira, Dubai, UAE</td>\n",
              "      <td>UAE</td>\n",
              "      <td>Dubai</td>\n",
              "      <td>Deira</td>\n",
              "      <td>Al Khabaisi</td>\n",
              "      <td>25.266173</td>\n",
              "      <td>55.337772</td>\n",
              "      <td>Dealership/Certified Pre-Owned</td>\n",
              "    </tr>\n",
              "    <tr>\n",
              "      <th>1</th>\n",
              "      <td>319900</td>\n",
              "      <td>Alfa Romeo</td>\n",
              "      <td>Stelvio</td>\n",
              "      <td>Quadrifoglio</td>\n",
              "      <td>8914</td>\n",
              "      <td>2020</td>\n",
              "      <td>4</td>\n",
              "      <td>GCC Specs</td>\n",
              "      <td>5</td>\n",
              "      <td>SUV</td>\n",
              "      <td>...</td>\n",
              "      <td>Black</td>\n",
              "      <td>Yes</td>\n",
              "      <td>Abu Hail, Deira, Dubai, UAE</td>\n",
              "      <td>UAE</td>\n",
              "      <td>Dubai</td>\n",
              "      <td>Deira</td>\n",
              "      <td>Abu Hail</td>\n",
              "      <td>25.275416</td>\n",
              "      <td>55.346450</td>\n",
              "      <td>Dealership/Certified Pre-Owned</td>\n",
              "    </tr>\n",
              "    <tr>\n",
              "      <th>2</th>\n",
              "      <td>149900</td>\n",
              "      <td>Audi</td>\n",
              "      <td>Q5</td>\n",
              "      <td>S-line</td>\n",
              "      <td>72205</td>\n",
              "      <td>2019</td>\n",
              "      <td>5</td>\n",
              "      <td>GCC Specs</td>\n",
              "      <td>5</td>\n",
              "      <td>SUV</td>\n",
              "      <td>...</td>\n",
              "      <td>Brown</td>\n",
              "      <td>Yes</td>\n",
              "      <td>Al Khabaisi, Deira, Dubai, UAE</td>\n",
              "      <td>UAE</td>\n",
              "      <td>Dubai</td>\n",
              "      <td>Deira</td>\n",
              "      <td>Al Khabaisi</td>\n",
              "      <td>25.266173</td>\n",
              "      <td>55.337772</td>\n",
              "      <td>Dealership/Certified Pre-Owned</td>\n",
              "    </tr>\n",
              "    <tr>\n",
              "      <th>3</th>\n",
              "      <td>79900</td>\n",
              "      <td>Alfa Romeo</td>\n",
              "      <td>GIULIETTA</td>\n",
              "      <td>Veloce</td>\n",
              "      <td>49193</td>\n",
              "      <td>2021</td>\n",
              "      <td>3</td>\n",
              "      <td>GCC Specs</td>\n",
              "      <td>4</td>\n",
              "      <td>Hatchback</td>\n",
              "      <td>...</td>\n",
              "      <td>Black</td>\n",
              "      <td>Yes</td>\n",
              "      <td>Al Khabaisi, Deira, Dubai, UAE</td>\n",
              "      <td>UAE</td>\n",
              "      <td>Dubai</td>\n",
              "      <td>Deira</td>\n",
              "      <td>Al Khabaisi</td>\n",
              "      <td>25.266173</td>\n",
              "      <td>55.337772</td>\n",
              "      <td>Dealership/Certified Pre-Owned</td>\n",
              "    </tr>\n",
              "    <tr>\n",
              "      <th>4</th>\n",
              "      <td>154900</td>\n",
              "      <td>GAC</td>\n",
              "      <td>GS8</td>\n",
              "      <td>GL</td>\n",
              "      <td>30</td>\n",
              "      <td>2024</td>\n",
              "      <td>0</td>\n",
              "      <td>GCC Specs</td>\n",
              "      <td>5</td>\n",
              "      <td>SUV</td>\n",
              "      <td>...</td>\n",
              "      <td>Other Color</td>\n",
              "      <td>Yes</td>\n",
              "      <td>Al Khabaisi, Deira, Dubai, UAE</td>\n",
              "      <td>UAE</td>\n",
              "      <td>Dubai</td>\n",
              "      <td>Deira</td>\n",
              "      <td>Al Khabaisi</td>\n",
              "      <td>25.266173</td>\n",
              "      <td>55.337772</td>\n",
              "      <td>Dealership/Certified Pre-Owned</td>\n",
              "    </tr>\n",
              "  </tbody>\n",
              "</table>\n",
              "<p>5 rows × 27 columns</p>\n",
              "</div>\n",
              "    <div class=\"colab-df-buttons\">\n",
              "\n",
              "  <div class=\"colab-df-container\">\n",
              "    <button class=\"colab-df-convert\" onclick=\"convertToInteractive('df-d3ca431a-d4ac-442a-89a2-4872c9352167')\"\n",
              "            title=\"Convert this dataframe to an interactive table.\"\n",
              "            style=\"display:none;\">\n",
              "\n",
              "  <svg xmlns=\"http://www.w3.org/2000/svg\" height=\"24px\" viewBox=\"0 -960 960 960\">\n",
              "    <path d=\"M120-120v-720h720v720H120Zm60-500h600v-160H180v160Zm220 220h160v-160H400v160Zm0 220h160v-160H400v160ZM180-400h160v-160H180v160Zm440 0h160v-160H620v160ZM180-180h160v-160H180v160Zm440 0h160v-160H620v160Z\"/>\n",
              "  </svg>\n",
              "    </button>\n",
              "\n",
              "  <style>\n",
              "    .colab-df-container {\n",
              "      display:flex;\n",
              "      gap: 12px;\n",
              "    }\n",
              "\n",
              "    .colab-df-convert {\n",
              "      background-color: #E8F0FE;\n",
              "      border: none;\n",
              "      border-radius: 50%;\n",
              "      cursor: pointer;\n",
              "      display: none;\n",
              "      fill: #1967D2;\n",
              "      height: 32px;\n",
              "      padding: 0 0 0 0;\n",
              "      width: 32px;\n",
              "    }\n",
              "\n",
              "    .colab-df-convert:hover {\n",
              "      background-color: #E2EBFA;\n",
              "      box-shadow: 0px 1px 2px rgba(60, 64, 67, 0.3), 0px 1px 3px 1px rgba(60, 64, 67, 0.15);\n",
              "      fill: #174EA6;\n",
              "    }\n",
              "\n",
              "    .colab-df-buttons div {\n",
              "      margin-bottom: 4px;\n",
              "    }\n",
              "\n",
              "    [theme=dark] .colab-df-convert {\n",
              "      background-color: #3B4455;\n",
              "      fill: #D2E3FC;\n",
              "    }\n",
              "\n",
              "    [theme=dark] .colab-df-convert:hover {\n",
              "      background-color: #434B5C;\n",
              "      box-shadow: 0px 1px 3px 1px rgba(0, 0, 0, 0.15);\n",
              "      filter: drop-shadow(0px 1px 2px rgba(0, 0, 0, 0.3));\n",
              "      fill: #FFFFFF;\n",
              "    }\n",
              "  </style>\n",
              "\n",
              "    <script>\n",
              "      const buttonEl =\n",
              "        document.querySelector('#df-d3ca431a-d4ac-442a-89a2-4872c9352167 button.colab-df-convert');\n",
              "      buttonEl.style.display =\n",
              "        google.colab.kernel.accessAllowed ? 'block' : 'none';\n",
              "\n",
              "      async function convertToInteractive(key) {\n",
              "        const element = document.querySelector('#df-d3ca431a-d4ac-442a-89a2-4872c9352167');\n",
              "        const dataTable =\n",
              "          await google.colab.kernel.invokeFunction('convertToInteractive',\n",
              "                                                    [key], {});\n",
              "        if (!dataTable) return;\n",
              "\n",
              "        const docLinkHtml = 'Like what you see? Visit the ' +\n",
              "          '<a target=\"_blank\" href=https://colab.research.google.com/notebooks/data_table.ipynb>data table notebook</a>'\n",
              "          + ' to learn more about interactive tables.';\n",
              "        element.innerHTML = '';\n",
              "        dataTable['output_type'] = 'display_data';\n",
              "        await google.colab.output.renderOutput(dataTable, element);\n",
              "        const docLink = document.createElement('div');\n",
              "        docLink.innerHTML = docLinkHtml;\n",
              "        element.appendChild(docLink);\n",
              "      }\n",
              "    </script>\n",
              "  </div>\n",
              "\n",
              "\n",
              "<div id=\"df-7f6ea57f-9d64-4cf9-aa14-13119babf8e8\">\n",
              "  <button class=\"colab-df-quickchart\" onclick=\"quickchart('df-7f6ea57f-9d64-4cf9-aa14-13119babf8e8')\"\n",
              "            title=\"Suggest charts\"\n",
              "            style=\"display:none;\">\n",
              "\n",
              "<svg xmlns=\"http://www.w3.org/2000/svg\" height=\"24px\"viewBox=\"0 0 24 24\"\n",
              "     width=\"24px\">\n",
              "    <g>\n",
              "        <path d=\"M19 3H5c-1.1 0-2 .9-2 2v14c0 1.1.9 2 2 2h14c1.1 0 2-.9 2-2V5c0-1.1-.9-2-2-2zM9 17H7v-7h2v7zm4 0h-2V7h2v10zm4 0h-2v-4h2v4z\"/>\n",
              "    </g>\n",
              "</svg>\n",
              "  </button>\n",
              "\n",
              "<style>\n",
              "  .colab-df-quickchart {\n",
              "      --bg-color: #E8F0FE;\n",
              "      --fill-color: #1967D2;\n",
              "      --hover-bg-color: #E2EBFA;\n",
              "      --hover-fill-color: #174EA6;\n",
              "      --disabled-fill-color: #AAA;\n",
              "      --disabled-bg-color: #DDD;\n",
              "  }\n",
              "\n",
              "  [theme=dark] .colab-df-quickchart {\n",
              "      --bg-color: #3B4455;\n",
              "      --fill-color: #D2E3FC;\n",
              "      --hover-bg-color: #434B5C;\n",
              "      --hover-fill-color: #FFFFFF;\n",
              "      --disabled-bg-color: #3B4455;\n",
              "      --disabled-fill-color: #666;\n",
              "  }\n",
              "\n",
              "  .colab-df-quickchart {\n",
              "    background-color: var(--bg-color);\n",
              "    border: none;\n",
              "    border-radius: 50%;\n",
              "    cursor: pointer;\n",
              "    display: none;\n",
              "    fill: var(--fill-color);\n",
              "    height: 32px;\n",
              "    padding: 0;\n",
              "    width: 32px;\n",
              "  }\n",
              "\n",
              "  .colab-df-quickchart:hover {\n",
              "    background-color: var(--hover-bg-color);\n",
              "    box-shadow: 0 1px 2px rgba(60, 64, 67, 0.3), 0 1px 3px 1px rgba(60, 64, 67, 0.15);\n",
              "    fill: var(--button-hover-fill-color);\n",
              "  }\n",
              "\n",
              "  .colab-df-quickchart-complete:disabled,\n",
              "  .colab-df-quickchart-complete:disabled:hover {\n",
              "    background-color: var(--disabled-bg-color);\n",
              "    fill: var(--disabled-fill-color);\n",
              "    box-shadow: none;\n",
              "  }\n",
              "\n",
              "  .colab-df-spinner {\n",
              "    border: 2px solid var(--fill-color);\n",
              "    border-color: transparent;\n",
              "    border-bottom-color: var(--fill-color);\n",
              "    animation:\n",
              "      spin 1s steps(1) infinite;\n",
              "  }\n",
              "\n",
              "  @keyframes spin {\n",
              "    0% {\n",
              "      border-color: transparent;\n",
              "      border-bottom-color: var(--fill-color);\n",
              "      border-left-color: var(--fill-color);\n",
              "    }\n",
              "    20% {\n",
              "      border-color: transparent;\n",
              "      border-left-color: var(--fill-color);\n",
              "      border-top-color: var(--fill-color);\n",
              "    }\n",
              "    30% {\n",
              "      border-color: transparent;\n",
              "      border-left-color: var(--fill-color);\n",
              "      border-top-color: var(--fill-color);\n",
              "      border-right-color: var(--fill-color);\n",
              "    }\n",
              "    40% {\n",
              "      border-color: transparent;\n",
              "      border-right-color: var(--fill-color);\n",
              "      border-top-color: var(--fill-color);\n",
              "    }\n",
              "    60% {\n",
              "      border-color: transparent;\n",
              "      border-right-color: var(--fill-color);\n",
              "    }\n",
              "    80% {\n",
              "      border-color: transparent;\n",
              "      border-right-color: var(--fill-color);\n",
              "      border-bottom-color: var(--fill-color);\n",
              "    }\n",
              "    90% {\n",
              "      border-color: transparent;\n",
              "      border-bottom-color: var(--fill-color);\n",
              "    }\n",
              "  }\n",
              "</style>\n",
              "\n",
              "  <script>\n",
              "    async function quickchart(key) {\n",
              "      const quickchartButtonEl =\n",
              "        document.querySelector('#' + key + ' button');\n",
              "      quickchartButtonEl.disabled = true;  // To prevent multiple clicks.\n",
              "      quickchartButtonEl.classList.add('colab-df-spinner');\n",
              "      try {\n",
              "        const charts = await google.colab.kernel.invokeFunction(\n",
              "            'suggestCharts', [key], {});\n",
              "      } catch (error) {\n",
              "        console.error('Error during call to suggestCharts:', error);\n",
              "      }\n",
              "      quickchartButtonEl.classList.remove('colab-df-spinner');\n",
              "      quickchartButtonEl.classList.add('colab-df-quickchart-complete');\n",
              "    }\n",
              "    (() => {\n",
              "      let quickchartButtonEl =\n",
              "        document.querySelector('#df-7f6ea57f-9d64-4cf9-aa14-13119babf8e8 button');\n",
              "      quickchartButtonEl.style.display =\n",
              "        google.colab.kernel.accessAllowed ? 'block' : 'none';\n",
              "    })();\n",
              "  </script>\n",
              "</div>\n",
              "\n",
              "    </div>\n",
              "  </div>\n"
            ],
            "application/vnd.google.colaboratory.intrinsic+json": {
              "type": "dataframe",
              "variable_name": "df"
            }
          },
          "metadata": {},
          "execution_count": 2
        }
      ]
    },
    {
      "cell_type": "markdown",
      "source": [
        "# Feature Engineering"
      ],
      "metadata": {
        "id": "7S2XjLNkLVP_"
      }
    },
    {
      "cell_type": "code",
      "source": [
        "#Create new feature 'age_at_purchase'\n",
        "\n",
        "df['age_at_purchase'] = df['year'] - df['vehicle_age_years']"
      ],
      "metadata": {
        "id": "sn37SKw2LS0_"
      },
      "execution_count": null,
      "outputs": []
    },
    {
      "cell_type": "markdown",
      "source": [
        "# Model Building"
      ],
      "metadata": {
        "id": "4YkULfhLLouD"
      }
    },
    {
      "cell_type": "code",
      "source": [
        "# Split data into train and test sets\n",
        "X = df[['kilometers', 'year', 'seating_capacity']]  # Features\n",
        "y = df['price']  # Target variable\n",
        "X_train, X_test, y_train, y_test = train_test_split(X, y, test_size=0.2, random_state=42)\n"
      ],
      "metadata": {
        "id": "I5q0KMWULjWi"
      },
      "execution_count": null,
      "outputs": []
    },
    {
      "cell_type": "code",
      "source": [
        "# Train the model\n",
        "model = LinearRegression()\n",
        "model.fit(X_train, y_train)\n",
        "\n",
        "y_pred = model.predict(X_test)\n",
        "print('LinearRegression:', y_pred)"
      ],
      "metadata": {
        "colab": {
          "base_uri": "https://localhost:8080/"
        },
        "id": "Q3Y7huUJL6br",
        "outputId": "779c2675-dd98-4498-a7bd-612ac89d6b9c"
      },
      "execution_count": null,
      "outputs": [
        {
          "output_type": "stream",
          "name": "stdout",
          "text": [
            "LinearRegression: [231471.092172   153089.39452389 211369.81015526 ... 119804.86124804\n",
            " 167859.32407609 133665.7785244 ]\n"
          ]
        }
      ]
    },
    {
      "cell_type": "markdown",
      "source": [
        "# Model Evaluation"
      ],
      "metadata": {
        "id": "gj27NkbYM-Ys"
      }
    },
    {
      "cell_type": "code",
      "source": [
        "# Evaluate the model\n",
        "y_pred = model.predict(X_test)\n",
        "mse = mean_squared_error(y_test, y_pred)\n",
        "print(\"Mean Squared Error:\", mse)"
      ],
      "metadata": {
        "colab": {
          "base_uri": "https://localhost:8080/"
        },
        "id": "jCGKvZbWM5dv",
        "outputId": "401f9650-62e3-48c0-8591-87dd97d4d145"
      },
      "execution_count": null,
      "outputs": [
        {
          "output_type": "stream",
          "name": "stdout",
          "text": [
            "Mean Squared Error: 28434461996.646748\n"
          ]
        }
      ]
    },
    {
      "cell_type": "markdown",
      "source": [
        "# Time Forecasting"
      ],
      "metadata": {
        "id": "RaaeBef4PT1O"
      }
    },
    {
      "cell_type": "code",
      "source": [
        "average_price_per_year = df.groupby('year')['price'].mean()\n",
        "\n",
        "# Plot the average price of vehicles over the years\n",
        "plt.figure(figsize=(10, 6))\n",
        "plt.plot(average_price_per_year.index, average_price_per_year.values, marker='o', linestyle='-')\n",
        "plt.title('Average Price of Vehicles Over the Years')\n",
        "plt.xlabel('Year')\n",
        "plt.ylabel('Average Price')\n",
        "plt.grid(True)\n",
        "plt.show()"
      ],
      "metadata": {
        "colab": {
          "base_uri": "https://localhost:8080/",
          "height": 564
        },
        "id": "e4p5E_CaPSIm",
        "outputId": "993316f9-bdc0-42a9-e2f1-55ee72a4b24c"
      },
      "execution_count": null,
      "outputs": [
        {
          "output_type": "display_data",
          "data": {
            "text/plain": [
              "<Figure size 1000x600 with 1 Axes>"
            ],
            "image/png": "[encoded data removed]"
          },
          "metadata": {}
        }
      ]
    },
    {
      "cell_type": "markdown",
      "source": [
        "# Feature Importances"
      ],
      "metadata": {
        "id": "mfDwtao4RIeB"
      }
    },
    {
      "cell_type": "code",
      "source": [
        "# Get feature importances\n",
        "feature_importances = rf_model.feature_importances_\n",
        "\n",
        "# Sort feature importances in descending order\n",
        "sorted_indices = feature_importances.argsort()[::-1]\n",
        "\n",
        "# Get the top 10 most important features\n",
        "top_10_features = X.columns[sorted_indices][:10]\n",
        "top_10_importances = feature_importances[sorted_indices][:10]"
      ],
      "metadata": {
        "id": "L7uKOoy2PhQU"
      },
      "execution_count": null,
      "outputs": []
    },
    {
      "cell_type": "code",
      "source": [
        "# Plot the top 10 most important features\n",
        "plt.figure(figsize=(10, 6))\n",
        "plt.barh(top_10_features, top_10_importances, color='skyblue')\n",
        "plt.xlabel('Importance')\n",
        "plt.title('Top 10 Most Important Features')\n",
        "plt.gca().invert_yaxis()  # Invert y-axis to display the most important features at the top\n",
        "plt.show()"
      ],
      "metadata": {
        "colab": {
          "base_uri": "https://localhost:8080/",
          "height": 564
        },
        "id": "SDcttJmpPjfS",
        "outputId": "c46378fc-ce62-4ea0-8ee5-f7f8d013ba98"
      },
      "execution_count": null,
      "outputs": [
        {
          "output_type": "display_data",
          "data": {
            "text/plain": [
              "<Figure size 1000x600 with 1 Axes>"
            ],
            "image/png": "[encoded data removed]"
          },
          "metadata": {}
        }
      ]
    },
    {
      "cell_type": "markdown",
      "source": [
        "# Segmentation Analysis"
      ],
      "metadata": {
        "id": "MwGJhBDSQpnJ"
      }
    },
    {
      "cell_type": "code",
      "source": [
        "# Select features for segmentation analysis\n",
        "segmentation_features = ['price', 'kilometers', 'year']\n",
        "\n",
        "# Standardize the data\n",
        "segmentation_data = cleaned_df[segmentation_features]\n",
        "segmentation_data_standardized = (segmentation_data - segmentation_data.mean()) / segmentation_data.std()\n",
        "\n",
        "print(segmentation_features)\n",
        "print(segmentation_data_standardized)\n"
      ],
      "metadata": {
        "colab": {
          "base_uri": "https://localhost:8080/"
        },
        "id": "SGluifhbQU9a",
        "outputId": "6660372f-929f-4950-a817-b89d67cd98f4"
      },
      "execution_count": null,
      "outputs": [
        {
          "output_type": "stream",
          "name": "stdout",
          "text": [
            "['price', 'kilometers', 'year']\n",
            "         price  kilometers      year\n",
            "0    -0.171597   -0.379961  0.558085\n",
            "1     0.843794   -0.808043  0.364430\n",
            "2    -0.064714   -0.107077  0.170774\n",
            "3    -0.438805   -0.361942  0.558085\n",
            "4    -0.037993   -0.906436  1.139052\n",
            "...        ...         ...       ...\n",
            "9948  0.283191    1.208611 -0.410193\n",
            "9949 -0.448959    0.920653 -0.797504\n",
            "9950  0.058736    0.577320 -0.022881\n",
            "9951 -0.529121    2.305063 -1.378471\n",
            "9952 -0.384829    0.931729 -0.216537\n",
            "\n",
            "[9953 rows x 3 columns]\n"
          ]
        }
      ]
    },
    {
      "cell_type": "code",
      "source": [
        "# Save the cleaned dataset to a CSV file\n",
        "\n",
        "df.to_csv('model_dubai_auto_cars_cleaned.csv', index=False)\n",
        "print(\"Cleaned dataset has been saved to 'model_dubai_auto_cars_cleaned.csv'\")"
      ],
      "metadata": {
        "colab": {
          "base_uri": "https://localhost:8080/"
        },
        "id": "MOA4D103RS1a",
        "outputId": "7a9f50b0-9f54-418a-c105-0d7c3235580e"
      },
      "execution_count": null,
      "outputs": [
        {
          "output_type": "stream",
          "name": "stdout",
          "text": [
            "Cleaned dataset has been saved to 'model_dubai_auto_cars_cleaned.csv'\n"
          ]
        }
      ]
    }
  ]
}